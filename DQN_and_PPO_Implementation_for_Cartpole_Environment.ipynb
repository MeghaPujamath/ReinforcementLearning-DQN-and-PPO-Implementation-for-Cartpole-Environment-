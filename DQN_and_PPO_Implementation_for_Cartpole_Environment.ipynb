{
  "nbformat": 4,
  "nbformat_minor": 0,
  "metadata": {
    "colab": {
      "provenance": [],
      "authorship_tag": "ABX9TyNFAhCCcoP+OWDkwH+NoLzb",
      "include_colab_link": true
    },
    "kernelspec": {
      "name": "python3",
      "display_name": "Python 3"
    },
    "language_info": {
      "name": "python"
    }
  },
  "cells": [
    {
      "cell_type": "markdown",
      "metadata": {
        "id": "view-in-github",
        "colab_type": "text"
      },
      "source": [
        "<a href=\"https://colab.research.google.com/github/MeghaPujamath/ReinforcementLearning-DQN-and-PPO-Implementation-for-Cartpole-Environment-/blob/main/DQN_and_PPO_Implementation_for_Cartpole_Environment.ipynb\" target=\"_parent\"><img src=\"https://colab.research.google.com/assets/colab-badge.svg\" alt=\"Open In Colab\"/></a>"
      ]
    },
    {
      "cell_type": "markdown",
      "source": [
        "**DQN Implementation**"
      ],
      "metadata": {
        "id": "o25i7WdB2kEU"
      }
    },
    {
      "cell_type": "code",
      "source": [
        "import torch\n",
        "from torch import nn\n",
        "import random\n",
        "import gym\n",
        "import itertools\n",
        "import matplotlib\n",
        "import matplotlib.pyplot as plt\n",
        "import numpy as np\n",
        "from collections import deque\n",
        "\n",
        "import torch.optim as optim\n",
        "import torch.nn.functional as F\n",
        "import torchvision.transforms as T\n",
        "from PIL import Image\n",
        "\n",
        "# set up matplotlib\n",
        "is_ipython = 'inline' in matplotlib.get_backend()\n",
        "if is_ipython:\n",
        "    from IPython import display\n",
        "\n",
        "plt.ion()"
      ],
      "metadata": {
        "id": "dG3W-Ec4tQMX"
      },
      "execution_count": 80,
      "outputs": []
    },
    {
      "cell_type": "markdown",
      "source": [
        "**Hyper-parameters Initialization**"
      ],
      "metadata": {
        "id": "gS1GUHT-xKfH"
      }
    },
    {
      "cell_type": "code",
      "source": [
        "batch_size = 32 #No of transitions that we sample from replay buffer while calculating gradients\n",
        "n_episodes = 1001\n",
        "discountFactor = 0.99\n",
        "epsilon = 1.0\n",
        "epsilonFactor = 10000\n",
        "minEpsilon = 0.02\n",
        "learning_rate = 0.001\n",
        "buffer_size = 50000 #Max No of trqnsitions that we store before clearing out\n",
        "min_replay_size = 1000 #No of transitions stored in replay buffer before we start computing gradients and training\n",
        "target_update_fre = 1000 #no of steps that we update target paramters equal to online parameters\n",
        "episode_length = 100"
      ],
      "metadata": {
        "id": "nREn8kxJtWfN"
      },
      "execution_count": 81,
      "outputs": []
    },
    {
      "cell_type": "markdown",
      "source": [
        "**Environment Settings**"
      ],
      "metadata": {
        "id": "MdGmSYGgxSdR"
      }
    },
    {
      "cell_type": "code",
      "source": [
        "env = gym.make('CartPole-v0')\n",
        "memory = deque(maxlen=buffer_size)\n",
        "reward_buffer = deque()\n",
        "\n",
        "state_size = env.observation_space.shape\n",
        "action_size = env.action_space.n"
      ],
      "metadata": {
        "id": "7Lp0ad6ltYSn",
        "colab": {
          "base_uri": "https://localhost:8080/",
          "height": 0
        },
        "outputId": "6620dc72-28fe-4ab7-fba4-5d7d279e4ea6"
      },
      "execution_count": 82,
      "outputs": [
        {
          "output_type": "stream",
          "name": "stderr",
          "text": [
            "/usr/local/lib/python3.7/dist-packages/gym/envs/registration.py:594: UserWarning: \u001b[33mWARN: The environment CartPole-v0 is out of date. You should consider upgrading to version `v1`.\u001b[0m\n",
            "  f\"The environment {id} is out of date. You should consider \"\n",
            "/usr/local/lib/python3.7/dist-packages/gym/core.py:318: DeprecationWarning: \u001b[33mWARN: Initializing wrapper in old step API which returns one bool instead of two. It is recommended to set `new_step_api=True` to use new step API. This will be the default behaviour in future.\u001b[0m\n",
            "  \"Initializing wrapper in old step API which returns one bool instead of two. It is recommended to set `new_step_api=True` to use new step API. This will be the default behaviour in future.\"\n",
            "/usr/local/lib/python3.7/dist-packages/gym/wrappers/step_api_compatibility.py:40: DeprecationWarning: \u001b[33mWARN: Initializing environment in old step API which returns one bool instead of two. It is recommended to set `new_step_api=True` to use new step API. This will be the default behaviour in future.\u001b[0m\n",
            "  \"Initializing environment in old step API which returns one bool instead of two. It is recommended to set `new_step_api=True` to use new step API. This will be the default behaviour in future.\"\n"
          ]
        }
      ]
    },
    {
      "cell_type": "markdown",
      "source": [
        "**Neural Network Class Implementation**"
      ],
      "metadata": {
        "id": "l26QjdHAxV_k"
      }
    },
    {
      "cell_type": "code",
      "source": [
        "class ModelNetwork(nn.Module):\n",
        "  def __init__(self, env):\n",
        "    super().__init__()\n",
        "    input_features = int(np.prod(state_size))\n",
        "    self.net = nn.Sequential(nn.Linear(input_features, 64), nn.Tanh(), nn.Linear(64, action_size))\n",
        "\n",
        "  def forward(self, x):\n",
        "    return self.net(x)\n",
        "\n",
        "  def act(self, state):\n",
        "    state_t = torch.as_tensor(state, dtype=torch.float32) #converting state to torch tensor\n",
        "    q_values = main_net(state_t.unsqueeze(0)) #Creating fake batch dimensions of 1\n",
        "\n",
        "    max_q_index = torch.argmax(q_values, dim=1)[0]\n",
        "    action = max_q_index.detach().item() # converting torch tensor to integer\n",
        "    return action"
      ],
      "metadata": {
        "id": "7WgUdBTvta3a"
      },
      "execution_count": 83,
      "outputs": []
    },
    {
      "cell_type": "markdown",
      "source": [],
      "metadata": {
        "id": "28YuD2Tuxb6v"
      }
    },
    {
      "cell_type": "markdown",
      "source": [
        "**Initializing Networks**"
      ],
      "metadata": {
        "id": "3veW-O5FzH7P"
      }
    },
    {
      "cell_type": "code",
      "source": [
        "main_net = ModelNetwork(env) #Main network is actually trained\n",
        "target_net = ModelNetwork(env) #target network is used to generate target values or ground truth\n",
        "\n",
        "target_net.load_state_dict(main_net.state_dict())\n",
        "optimizer = torch.optim.Adam(main_net.parameters(), learning_rate)"
      ],
      "metadata": {
        "id": "CW4KKCd0tf1p"
      },
      "execution_count": 84,
      "outputs": []
    },
    {
      "cell_type": "markdown",
      "source": [
        "**Defining Replay Buffer Class**"
      ],
      "metadata": {
        "id": "pWWvdQvJzM95"
      }
    },
    {
      "cell_type": "code",
      "source": [
        "class ReplayBuffer:\n",
        "  def __init__(self, buffer_size=buffer_size):\n",
        "    self.buffer_size = buffer_size\n",
        "    self.buffer = deque(maxlen=self.buffer_size)\n",
        "  \n",
        "  def insert_replayBuffer(self, state, action, reward, next_state, done):\n",
        "    self.buffer.append((state, action, reward, next_state, done))\n",
        "  \n",
        "  def sample_replayBuffer(self, batch_size):\n",
        "    return random.sample(self.buffer, batch_size)\n",
        "  \n",
        "  def buffer_initialization(self, env, min_replay_size):\n",
        "    state = env.reset()\n",
        "    for _ in range(min_replay_size):\n",
        "      action = env.action_space.sample()\n",
        "      next_state, reward, done, _ = env.step(action)\n",
        "      self.insert_replayBuffer(state, action, reward, next_state, done)\n",
        "\n",
        "      state = next_state\n",
        "      if done:\n",
        "        state = env.reset()"
      ],
      "metadata": {
        "id": "-1EOmCj4t0Xd"
      },
      "execution_count": 85,
      "outputs": []
    },
    {
      "cell_type": "markdown",
      "source": [
        "**Replay Buffer Training Function**"
      ],
      "metadata": {
        "id": "5dMmPmfPzQYJ"
      }
    },
    {
      "cell_type": "code",
      "source": [
        "def ReplayBufferLearn(batch_size, minibatch):\n",
        "    states = np.asarray([m[0] for m in minibatch])\n",
        "    actions = np.asarray([m[1] for m in minibatch])\n",
        "    rewards = np.asarray([m[2] for m in minibatch])\n",
        "    next_states = np.asarray([m[3] for m in minibatch])\n",
        "    dones = np.asarray([m[4] for m in minibatch])\n",
        "\n",
        "    states_t = torch.as_tensor(states, dtype=torch.float32)\n",
        "    actions_t = torch.as_tensor(actions, dtype=torch.int64).unsqueeze(-1)\n",
        "    rewards_t = torch.as_tensor(rewards, dtype=torch.float32).unsqueeze(-1)\n",
        "    done_t = torch.as_tensor(dones, dtype=torch.float32).unsqueeze(-1)\n",
        "    next_states_t = torch.as_tensor(next_states, dtype=torch.float32)\n",
        "\n",
        "    #Actual q values or ground truth from target network using next state\n",
        "    target_q_values = target_net(next_states_t) \n",
        "    max_target_q_values = target_q_values.max(dim=1, keepdim=True)[0]\n",
        "    targets = rewards_t + discountFactor*(1-done_t)*max_target_q_values\n",
        "    # test = torch.tensor(targets, requires_grad=True)\n",
        "\n",
        "    #Predicted q values from main network using current state\n",
        "    q_values = main_net(states_t)\n",
        "    # action_q_values, _ = torch.max(q_values, axis=1)\n",
        "    action_q_values = torch.gather(input=q_values, dim=1, index=actions_t)\n",
        "    # test2 = torch.tensor(action_q_values, requires_grad=True)\n",
        "\n",
        "    #Compute Losses\n",
        "    # loss = nn.functional.smooth_l1_loss(action_q_values, targets)\n",
        "    loss = torch.nn.MSELoss()(action_q_values, targets)\n",
        "\n",
        "    #Gradient Descent Step\n",
        "    optimizer.zero_grad()\n",
        "    loss.backward()\n",
        "    optimizer.step()\n",
        "\n",
        "    return loss.item()"
      ],
      "metadata": {
        "id": "1Eurc_sPug_M"
      },
      "execution_count": 86,
      "outputs": []
    },
    {
      "cell_type": "markdown",
      "source": [
        "**Training Loop**"
      ],
      "metadata": {
        "id": "7-eU0r80zUy7"
      }
    },
    {
      "cell_type": "code",
      "execution_count": null,
      "metadata": {
        "id": "sT_HAjVp9S_R"
      },
      "outputs": [],
      "source": [
        "rb = ReplayBuffer()\n",
        "rb.buffer_initialization(env, min_replay_size)\n",
        "episode_reward = 0.0\n",
        "losses_list, reward_list, episode_len_list, epsilon_list  = [], [], [], []\n",
        "loss_test = []\n",
        "loss_test2 = []\n",
        "losses = 0\n",
        "state = env.reset()\n",
        "steps = 0\n",
        "epis_len = 0\n",
        "for e in itertools.count():\n",
        "  epis_len += 1\n",
        "  epsi = np.interp(e, [0, epsilonFactor], [epsilon, minEpsilon])\n",
        "  if random.random() <= epsi:\n",
        "    action = env.action_space.sample() #random action selection i.e exploring\n",
        "  else:\n",
        "    action = main_net.act(state)\n",
        "\n",
        "  next_state, reward, done, _ = env.step(action)\n",
        "  memory.append((state, action, reward, next_state, done))\n",
        "\n",
        "  state = next_state\n",
        "  episode_reward += reward\n",
        "  if done:\n",
        "    steps += 1\n",
        "    state = env.reset()\n",
        "    reward_buffer.append(episode_reward)\n",
        "    \n",
        "    losses_list.append(losses/epis_len)\n",
        "\n",
        "    print(f'At Episode {steps} with Reward {episode_reward} and Average Reward {np.mean(reward_buffer)}')\n",
        "    episode_reward = 0.0\n",
        "    epis_len = 0\n",
        "\n",
        "  miniBatch = rb.sample_replayBuffer(batch_size)\n",
        "  loss = ReplayBufferLearn(batch_size, miniBatch)\n",
        "  losses += loss\n",
        "\n",
        "  #Update the Target Network\n",
        "  if e % target_update_fre== 0:\n",
        "    target_net.load_state_dict(main_net.state_dict())\n",
        "  \n",
        "  epsilon_list.append(epsi)\n",
        "  \n",
        "  if(len(reward_buffer) > 700):\n",
        "    break"
      ]
    },
    {
      "cell_type": "markdown",
      "source": [
        "**PPO Implementation**"
      ],
      "metadata": {
        "id": "dUq86KA72tPi"
      }
    },
    {
      "cell_type": "code",
      "source": [
        "import torch\n",
        "from torch import nn\n",
        "import random\n",
        "import gym\n",
        "import itertools\n",
        "import matplotlib\n",
        "import matplotlib.pyplot as plt\n",
        "import numpy as np\n",
        "from collections import deque\n",
        "\n",
        "import torch.optim as optim\n",
        "import torch.nn.functional as F\n",
        "import torchvision.transforms as T\n",
        "from PIL import Image\n",
        "from torch.distributions.categorical import Categorical"
      ],
      "metadata": {
        "id": "Mhaos9-zjZJK"
      },
      "execution_count": 88,
      "outputs": []
    },
    {
      "cell_type": "code",
      "execution_count": 89,
      "metadata": {
        "id": "sjZTCmUqhsnI"
      },
      "outputs": [],
      "source": [
        "class PPOMemory:\n",
        "    def __init__(self, batch_size):\n",
        "        self.states = []\n",
        "        self.probs = []\n",
        "        self.vals = []\n",
        "        self.actions = []\n",
        "        self.rewards = []\n",
        "        self.dones = []\n",
        "        self.batch_size = batch_size\n",
        "    def generate_batches(self):\n",
        "        n_states = len(self.states)\n",
        "        batch_start = np.arange(0, n_states, self.batch_size)\n",
        "        indices = np.arange(n_states, dtype=np.int64)\n",
        "        np.random.shuffle(indices)\n",
        "        batches = [indices[i:i+self.batch_size] for i in batch_start]\n",
        "        return np.array(self.states),\\\n",
        "                np.array(self.actions),\\\n",
        "                np.array(self.probs),\\\n",
        "                np.array(self.vals),\\\n",
        "                np.array(self.rewards),\\\n",
        "                np.array(self.dones),\\\n",
        "                batches\n",
        "    def store_memory(self, state, action, probs, vals, reward, done):\n",
        "        self.states.append(state)\n",
        "        self.actions.append(action)\n",
        "        self.probs.append(probs)\n",
        "        self.vals.append(vals)\n",
        "        self.rewards.append(reward)\n",
        "        self.dones.append(done)\n",
        "    def clear_memory(self):\n",
        "        self.states = []\n",
        "        self.probs = []\n",
        "        self.actions = []\n",
        "        self.rewards = []\n",
        "        self.dones = []\n",
        "        self.vals = []"
      ]
    },
    {
      "cell_type": "code",
      "source": [
        "class ActorNetwork(nn.Module):\n",
        "    def __init__(self, n_actions, input_dims, alpha,\n",
        "            fc1_dims=256, fc2_dims=256, chkpt_dir=''):\n",
        "        super(ActorNetwork, self).__init__()\n",
        "        self.actor = nn.Sequential(\n",
        "                nn.Linear(*input_dims, fc1_dims),\n",
        "                nn.ReLU(),\n",
        "                nn.Linear(fc1_dims, fc2_dims),\n",
        "                nn.ReLU(),\n",
        "                nn.Linear(fc2_dims, n_actions),\n",
        "                nn.Softmax(dim=-1)\n",
        "        )\n",
        "        self.optimizer = optim.Adam(self.parameters(), lr=alpha)\n",
        "        self.device = torch.device('cuda:0' if torch.cuda.is_available() else 'cpu')\n",
        "        self.to(self.device)\n",
        "\n",
        "    def forward(self, state):\n",
        "        dist = self.actor(state)\n",
        "        dist = Categorical(dist)\n",
        "        \n",
        "        return dist"
      ],
      "metadata": {
        "id": "FVaREMJgiDm6"
      },
      "execution_count": 90,
      "outputs": []
    },
    {
      "cell_type": "code",
      "source": [
        "class CriticNetwork(nn.Module):\n",
        "  def __init__(self, input_dims, alpha, fc1_dims=256, fc2_dims=256):\n",
        "        super(CriticNetwork, self).__init__()\n",
        "        self.critic = nn.Sequential(\n",
        "                nn.Linear(*input_dims, fc1_dims),\n",
        "                nn.ReLU(),\n",
        "                nn.Linear(fc1_dims, fc2_dims),\n",
        "                nn.ReLU(),\n",
        "                nn.Linear(fc2_dims, 1)\n",
        "        )\n",
        "        self.optimizer = optim.Adam(self.parameters(), lr=alpha)\n",
        "        self.device = torch.device('cuda:0' if torch.cuda.is_available() else 'cpu')\n",
        "        self.to(self.device)\n",
        "    \n",
        "  def forward(self, state):\n",
        "      value = self.critic(state)\n",
        "      return value"
      ],
      "metadata": {
        "id": "-iqQIv4DiGp9"
      },
      "execution_count": 91,
      "outputs": []
    },
    {
      "cell_type": "code",
      "source": [
        "class Agent:\n",
        "    def __init__(self, n_actions, input_dims, gamma=0.99, alpha=0.0003, gae_lambda=0.95, policy_clip=0.2, batch_size=64, n_epochs=10):\n",
        "        self.gamma = gamma\n",
        "        self.policy_clip = policy_clip\n",
        "        self.n_epochs = n_epochs\n",
        "        self.gae_lambda = gae_lambda\n",
        "        self.actor = ActorNetwork(n_actions, input_dims, alpha)\n",
        "        self.critic = CriticNetwork(input_dims, alpha)\n",
        "        self.memory = PPOMemory(batch_size)\n",
        "       \n",
        "    def remember(self, state, action, probs, vals, reward, done):\n",
        "        self.memory.store_memory(state, action, probs, vals, reward, done)\n",
        "    def choose_action(self, observation):\n",
        "        state = torch.tensor([observation], dtype=torch.float).to(self.actor.device)\n",
        "        dist = self.actor(state)\n",
        "        value = self.critic(state)\n",
        "        action = dist.sample()\n",
        "        probs = torch.squeeze(dist.log_prob(action)).item()\n",
        "        action = torch.squeeze(action).item()\n",
        "        value = torch.squeeze(value).item()\n",
        "        return action, probs, value\n",
        "    def learn(self):\n",
        "        for _ in range(self.n_epochs):\n",
        "            state_arr, action_arr, old_prob_arr, vals_arr,\\\n",
        "            reward_arr, dones_arr, batches = \\\n",
        "                    self.memory.generate_batches()\n",
        "            values = vals_arr\n",
        "            advantage = np.zeros(len(reward_arr), dtype=np.float32)\n",
        "            for t in range(len(reward_arr)-1):\n",
        "                discount = 1\n",
        "                a_t = 0\n",
        "                for k in range(t, len(reward_arr)-1):\n",
        "                    a_t += discount*(reward_arr[k] + self.gamma*values[k+1]*\\\n",
        "                            (1-int(dones_arr[k])) - values[k])\n",
        "                    discount *= self.gamma*self.gae_lambda\n",
        "                advantage[t] = a_t\n",
        "            advantage = torch.tensor(advantage).to(self.actor.device)\n",
        "            values = torch.tensor(values).to(self.actor.device)\n",
        "            for batch in batches:\n",
        "                states = torch.tensor(state_arr[batch], dtype=torch.float).to(self.actor.device)\n",
        "                old_probs = torch.tensor(old_prob_arr[batch]).to(self.actor.device)\n",
        "                actions = torch.tensor(action_arr[batch]).to(self.actor.device)\n",
        "\n",
        "                dist = self.actor(states)\n",
        "                critic_value = self.critic(states)\n",
        "\n",
        "                critic_value = torch.squeeze(critic_value)\n",
        "\n",
        "                new_probs = dist.log_prob(actions)\n",
        "                prob_ratio = new_probs.exp() / old_probs.exp()\n",
        "                #prob_ratio = (new_probs - old_probs).exp()\n",
        "                weighted_probs = advantage[batch] * prob_ratio\n",
        "                weighted_clipped_probs = torch.clamp(prob_ratio, 1-self.policy_clip,\n",
        "                        1+self.policy_clip)*advantage[batch]\n",
        "                actor_loss = -torch.min(weighted_probs, weighted_clipped_probs).mean()\n",
        "\n",
        "                returns = advantage[batch] + values[batch]\n",
        "                critic_loss = (returns-critic_value)**2\n",
        "                critic_loss = critic_loss.mean()\n",
        "\n",
        "                total_loss = actor_loss + 0.5*critic_loss\n",
        "                self.actor.optimizer.zero_grad()\n",
        "                self.critic.optimizer.zero_grad()\n",
        "                total_loss.backward()\n",
        "                self.actor.optimizer.step()\n",
        "                self.critic.optimizer.step()\n",
        "        self.memory.clear_memory() "
      ],
      "metadata": {
        "id": "PbUZh0f6ia-_"
      },
      "execution_count": 92,
      "outputs": []
    },
    {
      "cell_type": "code",
      "source": [
        "env = gym.make('CartPole-v0')\n",
        "N = 20\n",
        "batch_size = 32\n",
        "n_epochs = 4\n",
        "alpha = 0.0003\n",
        "agent = Agent(n_actions=env.action_space.n, batch_size=batch_size,alpha=alpha, n_epochs=n_epochs, \n",
        "                  input_dims=env.observation_space.shape)\n",
        "n_games = 600\n",
        "best_score = env.reward_range[0]\n",
        "rewards2 = []\n",
        "learn_iters = 0\n",
        "avg_score = 0\n",
        "n_steps = 0"
      ],
      "metadata": {
        "id": "GBVK5oyGikUZ"
      },
      "execution_count": 93,
      "outputs": []
    },
    {
      "cell_type": "code",
      "source": [
        "for i in range(n_games):\n",
        "    observation = env.reset()\n",
        "    done = False\n",
        "    score = 0\n",
        "    while not done:\n",
        "        action, prob, val = agent.choose_action(observation)\n",
        "        observation_, reward, done, info = env.step(action)\n",
        "        n_steps += 1\n",
        "        score += reward\n",
        "        agent.remember(observation, action, prob, val, reward, done)\n",
        "        if n_steps % N == 0:\n",
        "            agent.learn()\n",
        "            learn_iters += 1\n",
        "        observation = observation_\n",
        "    rewards2.append(score)\n",
        "    avg_score = np.mean(rewards2[-100:])\n",
        "\n",
        "    if avg_score > best_score:\n",
        "        best_score = avg_score\n",
        "\n",
        "    print(\"steps = \", n_steps,  ' episode = ', i, ' reward %.1f' % score, 'average reward %.1f' % avg_score)"
      ],
      "metadata": {
        "id": "aUZSs3qoitEz"
      },
      "execution_count": null,
      "outputs": []
    },
    {
      "cell_type": "markdown",
      "source": [
        "**Results of Both DQN and PPO algorithm**"
      ],
      "metadata": {
        "id": "drol00u8YNut"
      }
    },
    {
      "cell_type": "markdown",
      "source": [
        "**DQN Results:**"
      ],
      "metadata": {
        "id": "aavYnPd-cNiT"
      }
    },
    {
      "cell_type": "code",
      "source": [
        "x = [i+1 for i in range(len(rewards2))]\n",
        "fig, ax = plt.subplots()\n",
        "plt.title('DQN - episodes vs rewards')\n",
        "plt.plot(reward_buffer, label='DQN Implementation')\n",
        "plt.xlabel(\"episode\")\n",
        "plt.ylabel(\"rewards\")\n",
        "plt.legend()\n",
        "plt.show()"
      ],
      "metadata": {
        "colab": {
          "base_uri": "https://localhost:8080/",
          "height": 295
        },
        "id": "YbhVI_PwXUeW",
        "outputId": "213cc1d4-6538-426f-dc9c-36b99ee9ad32"
      },
      "execution_count": 95,
      "outputs": [
        {
          "output_type": "display_data",
          "data": {
            "text/plain": [
              "<Figure size 432x288 with 1 Axes>"
            ],
            "image/png": "[encoded data removed]"
          },
          "metadata": {
            "needs_background": "light"
          }
        }
      ]
    },
    {
      "cell_type": "markdown",
      "source": [
        "**PPO Results:**"
      ],
      "metadata": {
        "id": "pn6OlH_vcVYL"
      }
    },
    {
      "cell_type": "code",
      "source": [
        "fig, ax = plt.subplots()\n",
        "plt.title('PPO - episodes vs rewards')\n",
        "plt.plot(rewards2, label='PPO Implementation')\n",
        "plt.xlabel(\"episode\")\n",
        "plt.ylabel(\"rewards\")\n",
        "plt.legend()\n",
        "plt.show()"
      ],
      "metadata": {
        "colab": {
          "base_uri": "https://localhost:8080/",
          "height": 295
        },
        "id": "qxQigE5PvjFZ",
        "outputId": "50a2306e-c880-4c35-9535-95d38e0f082e"
      },
      "execution_count": 96,
      "outputs": [
        {
          "output_type": "display_data",
          "data": {
            "text/plain": [
              "<Figure size 432x288 with 1 Axes>"
            ],
            "image/png": "[encoded data removed]"
          },
          "metadata": {
            "needs_background": "light"
          }
        }
      ]
    },
    {
      "cell_type": "markdown",
      "source": [],
      "metadata": {
        "id": "oVfsmiFDia3J"
      }
    },
    {
      "cell_type": "code",
      "source": [
        "v_list = list(reward_buffer)\n",
        "v_list = v_list[:600]\n",
        "running_avg1 = np.zeros(len(v_list))\n",
        "running_avg2 = np.zeros(len(rewards2))\n",
        "for i in range(len(running_avg1)):\n",
        "  running_avg1[i] = np.mean(v_list[max(0, i-100):(i+1)])\n",
        "  running_avg2[i] = np.mean(rewards2[max(0, i-100):(i+1)])"
      ],
      "metadata": {
        "id": "575gEdIW1lYF"
      },
      "execution_count": 97,
      "outputs": []
    },
    {
      "cell_type": "code",
      "source": [
        "fig, ax = plt.subplots()\n",
        "plt.title('Running average of previous 100 scores')\n",
        "plt.plot(x[:999], running_avg1[:999], label='DQN Implementation')\n",
        "plt.plot(x[:999], running_avg2[:999], label='PPO Implementation')\n",
        "plt.xlabel(\"episode\")\n",
        "plt.ylabel(\"average rewards\")\n",
        "plt.legend()\n",
        "plt.show()"
      ],
      "metadata": {
        "id": "RsktJBcU17LY",
        "colab": {
          "base_uri": "https://localhost:8080/",
          "height": 295
        },
        "outputId": "4f109cc0-817c-4c87-e503-d2b4e8228cd7"
      },
      "execution_count": 98,
      "outputs": [
        {
          "output_type": "display_data",
          "data": {
            "text/plain": [
              "<Figure size 432x288 with 1 Axes>"
            ],
            "image/png": "[encoded data removed]"
          },
          "metadata": {
            "needs_background": "light"
          }
        }
      ]
    },
    {
      "cell_type": "markdown",
      "source": [
        "1. From the above plot it is clear that, PPO implementation performance is more reliable and it reaches the expected reward (200) much earlier than DFQ.\n",
        "2. The DFQ implementation is much noiser when compared to PPO"
      ],
      "metadata": {
        "id": "nW6HYR55bfaL"
      }
    }
  ]
}